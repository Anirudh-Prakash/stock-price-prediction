{
 "cells": [
  {
   "cell_type": "markdown",
   "metadata": {},
   "source": [
    "# Stock Prediction Using LSTM Time series Analysis\n"
   ]
  },
  {
   "cell_type": "markdown",
   "metadata": {},
   "source": [
    "<h1><b>Introduction</b></h1>\n",
    "<i>As per the problem statement to predict the return of stocks on 30th trading day, we have used a Long Short Term Memory(LSTM) network using Time Series analysis to iteratively predict the closing price of stock on 30th trading day. The LSTM network has been implememted using Keras Library on top of Tensorflow.Previous 29 days stock prices are fed as an input to the LSTM network and it predicts the closing price of the stock on 30th trading day.<i>"
   ]
  },
  {
   "cell_type": "markdown",
   "metadata": {},
   "source": [
    "<b><i>Dependencies: Numpy,Pandas,Matplotlib for data analysis cleaning and plotting<i><b>"
   ]
  },
  {
   "cell_type": "code",
   "execution_count": 1,
   "metadata": {},
   "outputs": [],
   "source": [
    "import numpy\n",
    "from numpy import newaxis\n",
    "import matplotlib.pyplot as plt\n",
    "import pandas as pd  \n",
    "import math as m\n",
    "from pandas import read_csv\n"
   ]
  },
  {
   "cell_type": "markdown",
   "metadata": {},
   "source": [
    "<b><i>The math library is used in the function created to calculate various technical indicators</i></b>"
   ]
  },
  {
   "cell_type": "code",
   "execution_count": 2,
   "metadata": {},
   "outputs": [],
   "source": [
    "import math"
   ]
  },
  {
   "cell_type": "markdown",
   "metadata": {},
   "source": [
    "<b><i>Keras is used with Tensorflow as backend for prediction using LSTM Time-series analysis. Sklearn library is used forparameter normalization and calculation of mean squared error</i></b> \n"
   ]
  },
  {
   "cell_type": "code",
   "execution_count": 3,
   "metadata": {},
   "outputs": [
    {
     "name": "stderr",
     "output_type": "stream",
     "text": [
      "c:\\users\\anirudh prakash\\appdata\\local\\programs\\python\\python35\\lib\\site-packages\\h5py\\__init__.py:36: FutureWarning: Conversion of the second argument of issubdtype from `float` to `np.floating` is deprecated. In future, it will be treated as `np.float64 == np.dtype(float).type`.\n",
      "  from ._conv import register_converters as _register_converters\n",
      "Using TensorFlow backend.\n"
     ]
    }
   ],
   "source": [
    "from keras.models import Sequential\n",
    "from keras.layers import Dense,Dropout,Activation\n",
    "from keras.layers import LSTM\n",
    "from sklearn.preprocessing import MinMaxScaler\n",
    "from sklearn.metrics import mean_squared_error\n",
    "import warnings\n",
    "\n",
    "warnings.filterwarnings(\"ignore\")"
   ]
  },
  {
   "cell_type": "markdown",
   "metadata": {},
   "source": [
    "<b><i>Function for Creating the Test data (Previous 29 days Values as Input dataset)</i></b>"
   ]
  },
  {
   "cell_type": "code",
   "execution_count": 4,
   "metadata": {},
   "outputs": [],
   "source": [
    "def create_dataset_test(dataset, look_back=1):\n",
    "    dataX, dataY = [], []\n",
    "    for i in range(len(dataset)-look_back):\n",
    "        a = dataset[i:(i+look_back)+1, 0]\n",
    "        dataX.append(a)\n",
    "    for i in range(len(dataset)-look_back-1):\n",
    "        dataY.append(dataset[i + look_back, 0])\n",
    "    return numpy.array(dataX), numpy.array(dataY)\n",
    "\n"
   ]
  },
  {
   "cell_type": "markdown",
   "metadata": {},
   "source": [
    "<b><i>Function for Creating the Traning data (Previous 29 days Values as Input dataset and 30th day value as output dataset)</i></b>"
   ]
  },
  {
   "cell_type": "code",
   "execution_count": 5,
   "metadata": {},
   "outputs": [],
   "source": [
    "def create_dataset_train(dataset, look_back=1):\n",
    "    dataX, dataY = [], []\n",
    "    for i in range(len(dataset)-look_back):\n",
    "        a = dataset[i:(i+look_back)+1, 0]\n",
    "        dataX.append(a)\n",
    "        dataY.append(dataset[i + look_back, 0])\n",
    "    return numpy.array(dataX), numpy.array(dataY)"
   ]
  },
  {
   "cell_type": "markdown",
   "metadata": {},
   "source": [
    "<b><i>Fixed ramdom seed for reproducibility. Read the dataset using Pandas 'read_csv' function.</i></b>"
   ]
  },
  {
   "cell_type": "code",
   "execution_count": 26,
   "metadata": {},
   "outputs": [
    {
     "data": {
      "text/html": [
       "<div>\n",
       "<style scoped>\n",
       "    .dataframe tbody tr th:only-of-type {\n",
       "        vertical-align: middle;\n",
       "    }\n",
       "\n",
       "    .dataframe tbody tr th {\n",
       "        vertical-align: top;\n",
       "    }\n",
       "\n",
       "    .dataframe thead th {\n",
       "        text-align: right;\n",
       "    }\n",
       "</style>\n",
       "<table border=\"1\" class=\"dataframe\">\n",
       "  <thead>\n",
       "    <tr style=\"text-align: right;\">\n",
       "      <th></th>\n",
       "      <th>Date</th>\n",
       "      <th>Open</th>\n",
       "      <th>High</th>\n",
       "      <th>Low</th>\n",
       "      <th>Close</th>\n",
       "      <th>Adj Close</th>\n",
       "      <th>Volume</th>\n",
       "    </tr>\n",
       "  </thead>\n",
       "  <tbody>\n",
       "    <tr>\n",
       "      <th>0</th>\n",
       "      <td>2013-04-04</td>\n",
       "      <td>86.500000</td>\n",
       "      <td>87.370003</td>\n",
       "      <td>85.000000</td>\n",
       "      <td>85.370003</td>\n",
       "      <td>64.636253</td>\n",
       "      <td>10367295.0</td>\n",
       "    </tr>\n",
       "    <tr>\n",
       "      <th>1</th>\n",
       "      <td>2013-04-05</td>\n",
       "      <td>85.400002</td>\n",
       "      <td>86.900002</td>\n",
       "      <td>84.639999</td>\n",
       "      <td>85.129997</td>\n",
       "      <td>64.454536</td>\n",
       "      <td>9522365.0</td>\n",
       "    </tr>\n",
       "    <tr>\n",
       "      <th>2</th>\n",
       "      <td>2013-04-08</td>\n",
       "      <td>85.400002</td>\n",
       "      <td>86.089996</td>\n",
       "      <td>84.709999</td>\n",
       "      <td>85.070000</td>\n",
       "      <td>64.409119</td>\n",
       "      <td>5022015.0</td>\n",
       "    </tr>\n",
       "    <tr>\n",
       "      <th>3</th>\n",
       "      <td>2013-04-09</td>\n",
       "      <td>85.800003</td>\n",
       "      <td>87.360001</td>\n",
       "      <td>84.709999</td>\n",
       "      <td>84.910004</td>\n",
       "      <td>64.287979</td>\n",
       "      <td>9051245.0</td>\n",
       "    </tr>\n",
       "    <tr>\n",
       "      <th>4</th>\n",
       "      <td>2013-04-10</td>\n",
       "      <td>85.400002</td>\n",
       "      <td>85.980003</td>\n",
       "      <td>83.349998</td>\n",
       "      <td>85.690002</td>\n",
       "      <td>64.878532</td>\n",
       "      <td>11236575.0</td>\n",
       "    </tr>\n",
       "  </tbody>\n",
       "</table>\n",
       "</div>"
      ],
      "text/plain": [
       "         Date       Open       High        Low      Close  Adj Close  \\\n",
       "0  2013-04-04  86.500000  87.370003  85.000000  85.370003  64.636253   \n",
       "1  2013-04-05  85.400002  86.900002  84.639999  85.129997  64.454536   \n",
       "2  2013-04-08  85.400002  86.089996  84.709999  85.070000  64.409119   \n",
       "3  2013-04-09  85.800003  87.360001  84.709999  84.910004  64.287979   \n",
       "4  2013-04-10  85.400002  85.980003  83.349998  85.690002  64.878532   \n",
       "\n",
       "       Volume  \n",
       "0  10367295.0  \n",
       "1   9522365.0  \n",
       "2   5022015.0  \n",
       "3   9051245.0  \n",
       "4  11236575.0  "
      ]
     },
     "execution_count": 26,
     "metadata": {},
     "output_type": "execute_result"
    }
   ],
   "source": [
    "numpy.random.seed(7)\n",
    "dataframe = read_csv('YESBANK.NS.csv', sep=\",\")\n",
    "dataframe.dropna(inplace=True)\n",
    "dataframe.head()"
   ]
  },
  {
   "cell_type": "markdown",
   "metadata": {},
   "source": [
    "<h2>Technical Indicators</h2>\n",
    "\n",
    "<b><i>Simple Moving Average :30 days</i></b>"
   ]
  },
  {
   "cell_type": "code",
   "execution_count": 32,
   "metadata": {},
   "outputs": [],
   "source": [
    "\n",
    "def MA(df, n):  \n",
    "    MA = pd.Series(pd.rolling_mean(df['Close'], n), name = 'SMA_' + str(n))  \n",
    "    df = df.join(MA)  \n",
    "    return df\n",
    "\n",
    "dataframe1=MA(dataframe,30)\n"
   ]
  },
  {
   "cell_type": "code",
   "execution_count": 33,
   "metadata": {},
   "outputs": [
    {
     "name": "stdout",
     "output_type": "stream",
     "text": [
      "            Date        Open        High         Low       Close   Adj Close  \\\n",
      "1227  2018-03-27  307.000000  309.250000  300.700012  303.500000  303.500000   \n",
      "1228  2018-03-28  300.149994  307.500000  299.100006  304.850006  304.850006   \n",
      "1229  2018-04-02  304.850006  308.500000  303.600006  306.250000  306.250000   \n",
      "1230  2018-04-03  306.450012  314.200012  304.000000  313.100006  313.100006   \n",
      "1231  2018-04-04  313.000000  320.000000  304.000000  305.450012  305.450012   \n",
      "\n",
      "          Volume      SMA_30  \n",
      "1227  15267419.0  312.424998  \n",
      "1228  14952643.0  311.406665  \n",
      "1229   8844027.0  310.936665  \n",
      "1230  10392997.0  310.713332  \n",
      "1231  13516525.0  310.501666  \n"
     ]
    },
    {
     "data": {
      "image/png": "[encoded data removed]",
      "text/plain": [
       "<Figure size 432x288 with 1 Axes>"
      ]
     },
     "metadata": {},
     "output_type": "display_data"
    }
   ],
   "source": [
    "print(dataframe1.tail())\n",
    "y=dataframe1['SMA_30']\n",
    "plt.plot(y)\n",
    "plt.show()"
   ]
  },
  {
   "cell_type": "markdown",
   "metadata": {},
   "source": [
    "<b><i>Exponential Moving Agerage: 30 days</i></b>"
   ]
  },
  {
   "cell_type": "code",
   "execution_count": 9,
   "metadata": {},
   "outputs": [
    {
     "name": "stdout",
     "output_type": "stream",
     "text": [
      "            Date        Open        High         Low       Close   Adj Close  \\\n",
      "1227  2018-03-27  307.000000  309.250000  300.700012  303.500000  303.500000   \n",
      "1228  2018-03-28  300.149994  307.500000  299.100006  304.850006  304.850006   \n",
      "1229  2018-04-02  304.850006  308.500000  303.600006  306.250000  306.250000   \n",
      "1230  2018-04-03  306.450012  314.200012  304.000000  313.100006  313.100006   \n",
      "1231  2018-04-04  313.000000  320.000000  304.000000  305.450012  305.450012   \n",
      "\n",
      "          Volume      EMA_30  \n",
      "1227  15267419.0  312.552931  \n",
      "1228  14952643.0  312.055968  \n",
      "1229   8844027.0  311.681390  \n",
      "1230  10392997.0  311.772913  \n",
      "1231  13516525.0  311.364984  \n"
     ]
    },
    {
     "data": {
      "image/png": "[encoded data removed]",
      "text/plain": [
       "<Figure size 432x288 with 1 Axes>"
      ]
     },
     "metadata": {},
     "output_type": "display_data"
    }
   ],
   "source": [
    " def EMA(df, n):  \n",
    "    EMA = pd.Series(pd.ewma(df['Close'], span = n, min_periods = n - 1), name = 'EMA_' + str(n))  \n",
    "    df = df.join(EMA)  \n",
    "    return df\n",
    "dataframe1=EMA(dataframe,30)\n",
    "print(dataframe1.tail())\n",
    "y=dataframe1['EMA_30']\n",
    "plt.plot(y)\n",
    "plt.show()"
   ]
  },
  {
   "cell_type": "markdown",
   "metadata": {},
   "source": [
    "<b><i>Stochastic Oscillator %K</i></b>"
   ]
  },
  {
   "cell_type": "code",
   "execution_count": 10,
   "metadata": {},
   "outputs": [
    {
     "name": "stdout",
     "output_type": "stream",
     "text": [
      "            Date        Open        High         Low       Close   Adj Close  \\\n",
      "1227  2018-03-27  307.000000  309.250000  300.700012  303.500000  303.500000   \n",
      "1228  2018-03-28  300.149994  307.500000  299.100006  304.850006  304.850006   \n",
      "1229  2018-04-02  304.850006  308.500000  303.600006  306.250000  306.250000   \n",
      "1230  2018-04-03  306.450012  314.200012  304.000000  313.100006  313.100006   \n",
      "1231  2018-04-04  313.000000  320.000000  304.000000  305.450012  305.450012   \n",
      "\n",
      "          Volume      EMA_30      SO%k  \n",
      "1227  15267419.0  312.552931  0.327484  \n",
      "1228  14952643.0  312.055968  0.684524  \n",
      "1229   8844027.0  311.681390  0.540816  \n",
      "1230  10392997.0  311.772913  0.892156  \n",
      "1231  13516525.0  311.364984  0.090626  \n"
     ]
    },
    {
     "data": {
      "image/png": "[encoded data removed]",
      "text/plain": [
       "<Figure size 432x288 with 1 Axes>"
      ]
     },
     "metadata": {},
     "output_type": "display_data"
    }
   ],
   "source": [
    "def STOK(df):  \n",
    "    SOk = pd.Series((df['Close'] - df['Low']) / (df['High'] - df['Low']), name = 'SO%k')  \n",
    "    df = df.join(SOk)  \n",
    "    return df\n",
    "\n",
    "dataframe1=STOK(dataframe1)\n",
    "print(dataframe1.tail())\n",
    "y=dataframe1['SO%k']\n",
    "plt.plot(y)\n",
    "plt.show()"
   ]
  },
  {
   "cell_type": "markdown",
   "metadata": {},
   "source": [
    "<b><i>Average Directional Moving Index</i></b>"
   ]
  },
  {
   "cell_type": "code",
   "execution_count": 11,
   "metadata": {},
   "outputs": [
    {
     "name": "stdout",
     "output_type": "stream",
     "text": [
      "            Date        Open        High         Low       Close   Adj Close  \\\n",
      "1227  2018-03-27  307.000000  309.250000  300.700012  303.500000  303.500000   \n",
      "1228  2018-03-28  300.149994  307.500000  299.100006  304.850006  304.850006   \n",
      "1229  2018-04-02  304.850006  308.500000  303.600006  306.250000  306.250000   \n",
      "1230  2018-04-03  306.450012  314.200012  304.000000  313.100006  313.100006   \n",
      "1231  2018-04-04  313.000000  320.000000  304.000000  305.450012  305.450012   \n",
      "\n",
      "          Volume      EMA_30      SO%k  ADX_30_30  \n",
      "1227  15267419.0  312.552931  0.327484   0.192882  \n",
      "1228  14952643.0  312.055968  0.684524   0.186569  \n",
      "1229   8844027.0  311.681390  0.540816   0.174891  \n",
      "1230  10392997.0  311.772913  0.892156   0.168545  \n",
      "1231  13516525.0  311.364984  0.090626   0.168545  \n"
     ]
    },
    {
     "data": {
      "image/png": "[encoded data removed]",
      "text/plain": [
       "<Figure size 432x288 with 1 Axes>"
      ]
     },
     "metadata": {},
     "output_type": "display_data"
    }
   ],
   "source": [
    "def ADX(df, n, n_ADX):  \n",
    "    i = 0  \n",
    "    UpI = []  \n",
    "    DoI = []  \n",
    "    while i + 1 <= df.index[-1]:  \n",
    "        UpMove = df.get_value(i + 1, 'High') - df.get_value(i, 'High')  \n",
    "        DoMove = df.get_value(i, 'Low') - df.get_value(i + 1, 'Low')  \n",
    "        if UpMove > DoMove and UpMove > 0:  \n",
    "            UpD = UpMove  \n",
    "        else: UpD = 0  \n",
    "        UpI.append(UpD)  \n",
    "        if DoMove > UpMove and DoMove > 0:  \n",
    "            DoD = DoMove  \n",
    "        else: DoD = 0  \n",
    "        DoI.append(DoD)  \n",
    "        i = i + 1  \n",
    "    i = 0  \n",
    "    TR_l = [0]  \n",
    "    while i < df.index[-1]:  \n",
    "        TR = max(df.get_value(i + 1, 'High'), df.get_value(i, 'Close')) - min(df.get_value(i + 1, 'Low'), df.get_value(i, 'Close'))  \n",
    "        TR_l.append(TR)  \n",
    "        i = i + 1  \n",
    "    TR_s = pd.Series(TR_l)  \n",
    "    ATR = pd.Series(pd.ewma(TR_s, span = n, min_periods = n))  \n",
    "    UpI = pd.Series(UpI)  \n",
    "    DoI = pd.Series(DoI)  \n",
    "    PosDI = pd.Series(pd.ewma(UpI, span = n, min_periods = n - 1) / ATR)  \n",
    "    NegDI = pd.Series(pd.ewma(DoI, span = n, min_periods = n - 1) / ATR)  \n",
    "    ADX = pd.Series(pd.ewma(abs(PosDI - NegDI) / (PosDI + NegDI), span = n_ADX, min_periods = n_ADX - 1), name = 'ADX_' + str(n) + '_' + str(n_ADX))  \n",
    "    df = df.join(ADX)  \n",
    "    return df\n",
    "\n",
    "\n",
    "dataframe1=ADX(dataframe1,30,30)\n",
    "print(dataframe1.tail())\n",
    "\n",
    "plt.plot(y)\n",
    "plt.show()\n"
   ]
  },
  {
   "cell_type": "markdown",
   "metadata": {},
   "source": [
    "<b><i>Relative Strength Index</i></b>"
   ]
  },
  {
   "cell_type": "code",
   "execution_count": 12,
   "metadata": {},
   "outputs": [
    {
     "data": {
      "text/html": [
       "<div>\n",
       "<style scoped>\n",
       "    .dataframe tbody tr th:only-of-type {\n",
       "        vertical-align: middle;\n",
       "    }\n",
       "\n",
       "    .dataframe tbody tr th {\n",
       "        vertical-align: top;\n",
       "    }\n",
       "\n",
       "    .dataframe thead th {\n",
       "        text-align: right;\n",
       "    }\n",
       "</style>\n",
       "<table border=\"1\" class=\"dataframe\">\n",
       "  <thead>\n",
       "    <tr style=\"text-align: right;\">\n",
       "      <th></th>\n",
       "      <th>Date</th>\n",
       "      <th>Open</th>\n",
       "      <th>High</th>\n",
       "      <th>Low</th>\n",
       "      <th>Close</th>\n",
       "      <th>Adj Close</th>\n",
       "      <th>Volume</th>\n",
       "      <th>EMA_30</th>\n",
       "      <th>SO%k</th>\n",
       "      <th>ADX_30_30</th>\n",
       "      <th>RSI_30</th>\n",
       "    </tr>\n",
       "  </thead>\n",
       "  <tbody>\n",
       "    <tr>\n",
       "      <th>1227</th>\n",
       "      <td>2018-03-27</td>\n",
       "      <td>307.000000</td>\n",
       "      <td>309.250000</td>\n",
       "      <td>300.700012</td>\n",
       "      <td>303.500000</td>\n",
       "      <td>303.500000</td>\n",
       "      <td>15267419.0</td>\n",
       "      <td>312.552931</td>\n",
       "      <td>0.327484</td>\n",
       "      <td>0.192882</td>\n",
       "      <td>0.454451</td>\n",
       "    </tr>\n",
       "    <tr>\n",
       "      <th>1228</th>\n",
       "      <td>2018-03-28</td>\n",
       "      <td>300.149994</td>\n",
       "      <td>307.500000</td>\n",
       "      <td>299.100006</td>\n",
       "      <td>304.850006</td>\n",
       "      <td>304.850006</td>\n",
       "      <td>14952643.0</td>\n",
       "      <td>312.055968</td>\n",
       "      <td>0.684524</td>\n",
       "      <td>0.186569</td>\n",
       "      <td>0.444370</td>\n",
       "    </tr>\n",
       "    <tr>\n",
       "      <th>1229</th>\n",
       "      <td>2018-04-02</td>\n",
       "      <td>304.850006</td>\n",
       "      <td>308.500000</td>\n",
       "      <td>303.600006</td>\n",
       "      <td>306.250000</td>\n",
       "      <td>306.250000</td>\n",
       "      <td>8844027.0</td>\n",
       "      <td>311.681390</td>\n",
       "      <td>0.540816</td>\n",
       "      <td>0.174891</td>\n",
       "      <td>0.452484</td>\n",
       "    </tr>\n",
       "    <tr>\n",
       "      <th>1230</th>\n",
       "      <td>2018-04-03</td>\n",
       "      <td>306.450012</td>\n",
       "      <td>314.200012</td>\n",
       "      <td>304.000000</td>\n",
       "      <td>313.100006</td>\n",
       "      <td>313.100006</td>\n",
       "      <td>10392997.0</td>\n",
       "      <td>311.772913</td>\n",
       "      <td>0.892156</td>\n",
       "      <td>0.168545</td>\n",
       "      <td>0.497223</td>\n",
       "    </tr>\n",
       "    <tr>\n",
       "      <th>1231</th>\n",
       "      <td>2018-04-04</td>\n",
       "      <td>313.000000</td>\n",
       "      <td>320.000000</td>\n",
       "      <td>304.000000</td>\n",
       "      <td>305.450012</td>\n",
       "      <td>305.450012</td>\n",
       "      <td>13516525.0</td>\n",
       "      <td>311.364984</td>\n",
       "      <td>0.090626</td>\n",
       "      <td>0.168545</td>\n",
       "      <td>0.538262</td>\n",
       "    </tr>\n",
       "  </tbody>\n",
       "</table>\n",
       "</div>"
      ],
      "text/plain": [
       "            Date        Open        High         Low       Close   Adj Close  \\\n",
       "1227  2018-03-27  307.000000  309.250000  300.700012  303.500000  303.500000   \n",
       "1228  2018-03-28  300.149994  307.500000  299.100006  304.850006  304.850006   \n",
       "1229  2018-04-02  304.850006  308.500000  303.600006  306.250000  306.250000   \n",
       "1230  2018-04-03  306.450012  314.200012  304.000000  313.100006  313.100006   \n",
       "1231  2018-04-04  313.000000  320.000000  304.000000  305.450012  305.450012   \n",
       "\n",
       "          Volume      EMA_30      SO%k  ADX_30_30    RSI_30  \n",
       "1227  15267419.0  312.552931  0.327484   0.192882  0.454451  \n",
       "1228  14952643.0  312.055968  0.684524   0.186569  0.444370  \n",
       "1229   8844027.0  311.681390  0.540816   0.174891  0.452484  \n",
       "1230  10392997.0  311.772913  0.892156   0.168545  0.497223  \n",
       "1231  13516525.0  311.364984  0.090626   0.168545  0.538262  "
      ]
     },
     "execution_count": 12,
     "metadata": {},
     "output_type": "execute_result"
    }
   ],
   "source": [
    "def RSI(df, n):  \n",
    "    i = 0  \n",
    "    UpI = [0]  \n",
    "    DoI = [0]  \n",
    "    while i + 1 <= df.index[-1]:  \n",
    "        UpMove = df.get_value(i + 1, 'High') - df.get_value(i, 'High')  \n",
    "        DoMove = df.get_value(i, 'Low') - df.get_value(i + 1, 'Low')  \n",
    "        if UpMove > DoMove and UpMove > 0:  \n",
    "            UpD = UpMove  \n",
    "        else: UpD = 0  \n",
    "        UpI.append(UpD)  \n",
    "        if DoMove > UpMove and DoMove > 0:  \n",
    "            DoD = DoMove  \n",
    "        else: DoD = 0  \n",
    "        DoI.append(DoD)  \n",
    "        i = i + 1  \n",
    "    UpI = pd.Series(UpI)  \n",
    "    DoI = pd.Series(DoI)  \n",
    "    PosDI = pd.Series(pd.ewma(UpI, span = n, min_periods = n - 1))  \n",
    "    NegDI = pd.Series(pd.ewma(DoI, span = n, min_periods = n - 1))  \n",
    "    RSI = pd.Series(PosDI / (PosDI + NegDI), name = 'RSI_' + str(n))  \n",
    "    df = df.join(RSI)  \n",
    "    return df\n",
    "dataframe1=RSI(dataframe1,30)\n",
    "dataframe1.tail()"
   ]
  },
  {
   "cell_type": "code",
   "execution_count": 13,
   "metadata": {},
   "outputs": [
    {
     "data": {
      "image/png": "[encoded data removed]",
      "text/plain": [
       "<Figure size 432x288 with 1 Axes>"
      ]
     },
     "metadata": {},
     "output_type": "display_data"
    }
   ],
   "source": [
    "y=dataframe1['RSI_30']\n",
    "#x=dataframe['Date']\n",
    "plt.plot(y)\n",
    "plt.show()"
   ]
  },
  {
   "cell_type": "markdown",
   "metadata": {},
   "source": [
    "<b><i>Chaikin Oscillator</i></b>"
   ]
  },
  {
   "cell_type": "code",
   "execution_count": 14,
   "metadata": {},
   "outputs": [
    {
     "data": {
      "text/html": [
       "<div>\n",
       "<style scoped>\n",
       "    .dataframe tbody tr th:only-of-type {\n",
       "        vertical-align: middle;\n",
       "    }\n",
       "\n",
       "    .dataframe tbody tr th {\n",
       "        vertical-align: top;\n",
       "    }\n",
       "\n",
       "    .dataframe thead th {\n",
       "        text-align: right;\n",
       "    }\n",
       "</style>\n",
       "<table border=\"1\" class=\"dataframe\">\n",
       "  <thead>\n",
       "    <tr style=\"text-align: right;\">\n",
       "      <th></th>\n",
       "      <th>Date</th>\n",
       "      <th>Open</th>\n",
       "      <th>High</th>\n",
       "      <th>Low</th>\n",
       "      <th>Close</th>\n",
       "      <th>Adj Close</th>\n",
       "      <th>Volume</th>\n",
       "      <th>EMA_30</th>\n",
       "      <th>SO%k</th>\n",
       "      <th>ADX_30_30</th>\n",
       "      <th>RSI_30</th>\n",
       "      <th>Chaikin</th>\n",
       "    </tr>\n",
       "  </thead>\n",
       "  <tbody>\n",
       "    <tr>\n",
       "      <th>1227</th>\n",
       "      <td>2018-03-27</td>\n",
       "      <td>307.000000</td>\n",
       "      <td>309.250000</td>\n",
       "      <td>300.700012</td>\n",
       "      <td>303.500000</td>\n",
       "      <td>303.500000</td>\n",
       "      <td>15267419.0</td>\n",
       "      <td>312.552931</td>\n",
       "      <td>0.327484</td>\n",
       "      <td>0.192882</td>\n",
       "      <td>0.454451</td>\n",
       "      <td>1.630075e+06</td>\n",
       "    </tr>\n",
       "    <tr>\n",
       "      <th>1228</th>\n",
       "      <td>2018-03-28</td>\n",
       "      <td>300.149994</td>\n",
       "      <td>307.500000</td>\n",
       "      <td>299.100006</td>\n",
       "      <td>304.850006</td>\n",
       "      <td>304.850006</td>\n",
       "      <td>14952643.0</td>\n",
       "      <td>312.055968</td>\n",
       "      <td>0.684524</td>\n",
       "      <td>0.186569</td>\n",
       "      <td>0.444370</td>\n",
       "      <td>3.108088e+06</td>\n",
       "    </tr>\n",
       "    <tr>\n",
       "      <th>1229</th>\n",
       "      <td>2018-04-02</td>\n",
       "      <td>304.850006</td>\n",
       "      <td>308.500000</td>\n",
       "      <td>303.600006</td>\n",
       "      <td>306.250000</td>\n",
       "      <td>306.250000</td>\n",
       "      <td>8844027.0</td>\n",
       "      <td>311.681390</td>\n",
       "      <td>0.540816</td>\n",
       "      <td>0.174891</td>\n",
       "      <td>0.452484</td>\n",
       "      <td>1.904081e+06</td>\n",
       "    </tr>\n",
       "    <tr>\n",
       "      <th>1230</th>\n",
       "      <td>2018-04-03</td>\n",
       "      <td>306.450012</td>\n",
       "      <td>314.200012</td>\n",
       "      <td>304.000000</td>\n",
       "      <td>313.100006</td>\n",
       "      <td>313.100006</td>\n",
       "      <td>10392997.0</td>\n",
       "      <td>311.772913</td>\n",
       "      <td>0.892156</td>\n",
       "      <td>0.168545</td>\n",
       "      <td>0.497223</td>\n",
       "      <td>3.602337e+06</td>\n",
       "    </tr>\n",
       "    <tr>\n",
       "      <th>1231</th>\n",
       "      <td>2018-04-04</td>\n",
       "      <td>313.000000</td>\n",
       "      <td>320.000000</td>\n",
       "      <td>304.000000</td>\n",
       "      <td>305.450012</td>\n",
       "      <td>305.450012</td>\n",
       "      <td>13516525.0</td>\n",
       "      <td>311.364984</td>\n",
       "      <td>0.090626</td>\n",
       "      <td>0.168545</td>\n",
       "      <td>0.538262</td>\n",
       "      <td>-2.145224e+06</td>\n",
       "    </tr>\n",
       "  </tbody>\n",
       "</table>\n",
       "</div>"
      ],
      "text/plain": [
       "            Date        Open        High         Low       Close   Adj Close  \\\n",
       "1227  2018-03-27  307.000000  309.250000  300.700012  303.500000  303.500000   \n",
       "1228  2018-03-28  300.149994  307.500000  299.100006  304.850006  304.850006   \n",
       "1229  2018-04-02  304.850006  308.500000  303.600006  306.250000  306.250000   \n",
       "1230  2018-04-03  306.450012  314.200012  304.000000  313.100006  313.100006   \n",
       "1231  2018-04-04  313.000000  320.000000  304.000000  305.450012  305.450012   \n",
       "\n",
       "          Volume      EMA_30      SO%k  ADX_30_30    RSI_30       Chaikin  \n",
       "1227  15267419.0  312.552931  0.327484   0.192882  0.454451  1.630075e+06  \n",
       "1228  14952643.0  312.055968  0.684524   0.186569  0.444370  3.108088e+06  \n",
       "1229   8844027.0  311.681390  0.540816   0.174891  0.452484  1.904081e+06  \n",
       "1230  10392997.0  311.772913  0.892156   0.168545  0.497223  3.602337e+06  \n",
       "1231  13516525.0  311.364984  0.090626   0.168545  0.538262 -2.145224e+06  "
      ]
     },
     "execution_count": 14,
     "metadata": {},
     "output_type": "execute_result"
    }
   ],
   "source": [
    "def Chaikin(df):  \n",
    "    ad = (2 * df['Close'] - df['High'] - df['Low']) / (df['High'] - df['Low']) * df['Volume']  \n",
    "    Chaikin = pd.Series(pd.ewma(ad, span = 3, min_periods = 2) - pd.ewma(ad, span = 10, min_periods = 9), name = 'Chaikin')  \n",
    "    df = df.join(Chaikin)  \n",
    "    return df\n",
    "dataframe1=Chaikin(dataframe1)\n",
    "dataframe1.tail()"
   ]
  },
  {
   "cell_type": "code",
   "execution_count": 15,
   "metadata": {},
   "outputs": [
    {
     "data": {
      "image/png": "[encoded data removed]",
      "text/plain": [
       "<Figure size 432x288 with 1 Axes>"
      ]
     },
     "metadata": {},
     "output_type": "display_data"
    }
   ],
   "source": [
    "y=dataframe1['Chaikin']\n",
    "#x=dataframe['Date']\n",
    "plt.plot(y)\n",
    "plt.show()"
   ]
  },
  {
   "cell_type": "markdown",
   "metadata": {},
   "source": [
    "<b><i>Commodity Channel Index</i></b>"
   ]
  },
  {
   "cell_type": "code",
   "execution_count": 16,
   "metadata": {},
   "outputs": [
    {
     "data": {
      "text/html": [
       "<div>\n",
       "<style scoped>\n",
       "    .dataframe tbody tr th:only-of-type {\n",
       "        vertical-align: middle;\n",
       "    }\n",
       "\n",
       "    .dataframe tbody tr th {\n",
       "        vertical-align: top;\n",
       "    }\n",
       "\n",
       "    .dataframe thead th {\n",
       "        text-align: right;\n",
       "    }\n",
       "</style>\n",
       "<table border=\"1\" class=\"dataframe\">\n",
       "  <thead>\n",
       "    <tr style=\"text-align: right;\">\n",
       "      <th></th>\n",
       "      <th>Date</th>\n",
       "      <th>Open</th>\n",
       "      <th>High</th>\n",
       "      <th>Low</th>\n",
       "      <th>Close</th>\n",
       "      <th>Adj Close</th>\n",
       "      <th>Volume</th>\n",
       "      <th>EMA_30</th>\n",
       "      <th>SO%k</th>\n",
       "      <th>ADX_30_30</th>\n",
       "      <th>RSI_30</th>\n",
       "      <th>Chaikin</th>\n",
       "      <th>CCI_30</th>\n",
       "    </tr>\n",
       "  </thead>\n",
       "  <tbody>\n",
       "    <tr>\n",
       "      <th>1227</th>\n",
       "      <td>2018-03-27</td>\n",
       "      <td>307.000000</td>\n",
       "      <td>309.250000</td>\n",
       "      <td>300.700012</td>\n",
       "      <td>303.500000</td>\n",
       "      <td>303.500000</td>\n",
       "      <td>15267419.0</td>\n",
       "      <td>312.552931</td>\n",
       "      <td>0.327484</td>\n",
       "      <td>0.192882</td>\n",
       "      <td>0.454451</td>\n",
       "      <td>1.630075e+06</td>\n",
       "      <td>-0.847376</td>\n",
       "    </tr>\n",
       "    <tr>\n",
       "      <th>1228</th>\n",
       "      <td>2018-03-28</td>\n",
       "      <td>300.149994</td>\n",
       "      <td>307.500000</td>\n",
       "      <td>299.100006</td>\n",
       "      <td>304.850006</td>\n",
       "      <td>304.850006</td>\n",
       "      <td>14952643.0</td>\n",
       "      <td>312.055968</td>\n",
       "      <td>0.684524</td>\n",
       "      <td>0.186569</td>\n",
       "      <td>0.444370</td>\n",
       "      <td>3.108088e+06</td>\n",
       "      <td>-0.874863</td>\n",
       "    </tr>\n",
       "    <tr>\n",
       "      <th>1229</th>\n",
       "      <td>2018-04-02</td>\n",
       "      <td>304.850006</td>\n",
       "      <td>308.500000</td>\n",
       "      <td>303.600006</td>\n",
       "      <td>306.250000</td>\n",
       "      <td>306.250000</td>\n",
       "      <td>8844027.0</td>\n",
       "      <td>311.681390</td>\n",
       "      <td>0.540816</td>\n",
       "      <td>0.174891</td>\n",
       "      <td>0.452484</td>\n",
       "      <td>1.904081e+06</td>\n",
       "      <td>-0.571769</td>\n",
       "    </tr>\n",
       "    <tr>\n",
       "      <th>1230</th>\n",
       "      <td>2018-04-03</td>\n",
       "      <td>306.450012</td>\n",
       "      <td>314.200012</td>\n",
       "      <td>304.000000</td>\n",
       "      <td>313.100006</td>\n",
       "      <td>313.100006</td>\n",
       "      <td>10392997.0</td>\n",
       "      <td>311.772913</td>\n",
       "      <td>0.892156</td>\n",
       "      <td>0.168545</td>\n",
       "      <td>0.497223</td>\n",
       "      <td>3.602337e+06</td>\n",
       "      <td>-0.036306</td>\n",
       "    </tr>\n",
       "    <tr>\n",
       "      <th>1231</th>\n",
       "      <td>2018-04-04</td>\n",
       "      <td>313.000000</td>\n",
       "      <td>320.000000</td>\n",
       "      <td>304.000000</td>\n",
       "      <td>305.450012</td>\n",
       "      <td>305.450012</td>\n",
       "      <td>13516525.0</td>\n",
       "      <td>311.364984</td>\n",
       "      <td>0.090626</td>\n",
       "      <td>0.168545</td>\n",
       "      <td>0.538262</td>\n",
       "      <td>-2.145224e+06</td>\n",
       "      <td>-0.086966</td>\n",
       "    </tr>\n",
       "  </tbody>\n",
       "</table>\n",
       "</div>"
      ],
      "text/plain": [
       "            Date        Open        High         Low       Close   Adj Close  \\\n",
       "1227  2018-03-27  307.000000  309.250000  300.700012  303.500000  303.500000   \n",
       "1228  2018-03-28  300.149994  307.500000  299.100006  304.850006  304.850006   \n",
       "1229  2018-04-02  304.850006  308.500000  303.600006  306.250000  306.250000   \n",
       "1230  2018-04-03  306.450012  314.200012  304.000000  313.100006  313.100006   \n",
       "1231  2018-04-04  313.000000  320.000000  304.000000  305.450012  305.450012   \n",
       "\n",
       "          Volume      EMA_30      SO%k  ADX_30_30    RSI_30       Chaikin  \\\n",
       "1227  15267419.0  312.552931  0.327484   0.192882  0.454451  1.630075e+06   \n",
       "1228  14952643.0  312.055968  0.684524   0.186569  0.444370  3.108088e+06   \n",
       "1229   8844027.0  311.681390  0.540816   0.174891  0.452484  1.904081e+06   \n",
       "1230  10392997.0  311.772913  0.892156   0.168545  0.497223  3.602337e+06   \n",
       "1231  13516525.0  311.364984  0.090626   0.168545  0.538262 -2.145224e+06   \n",
       "\n",
       "        CCI_30  \n",
       "1227 -0.847376  \n",
       "1228 -0.874863  \n",
       "1229 -0.571769  \n",
       "1230 -0.036306  \n",
       "1231 -0.086966  "
      ]
     },
     "execution_count": 16,
     "metadata": {},
     "output_type": "execute_result"
    }
   ],
   "source": [
    "def CCI(df, n):  \n",
    "    PP = (df['High'] + df['Low'] + df['Close']) / 3  \n",
    "    CCI = pd.Series((PP - pd.rolling_mean(PP, n)) / pd.rolling_std(PP, n), name = 'CCI_' + str(n))  \n",
    "    df = df.join(CCI)  \n",
    "    return df\n",
    "dataframe1=CCI(dataframe1,30)\n",
    "dataframe1.tail()"
   ]
  },
  {
   "cell_type": "code",
   "execution_count": 17,
   "metadata": {},
   "outputs": [
    {
     "data": {
      "image/png": "[encoded data removed]",
      "text/plain": [
       "<Figure size 432x288 with 1 Axes>"
      ]
     },
     "metadata": {},
     "output_type": "display_data"
    }
   ],
   "source": [
    "y=dataframe1['CCI_30']\n",
    "#x=dataframe['Date']\n",
    "plt.plot(y)\n",
    "plt.show()"
   ]
  },
  {
   "cell_type": "markdown",
   "metadata": {},
   "source": [
    "<b><i>Closing Price Graph</i></b>"
   ]
  },
  {
   "cell_type": "code",
   "execution_count": 18,
   "metadata": {},
   "outputs": [
    {
     "data": {
      "image/png": "[encoded data removed]",
      "text/plain": [
       "<Figure size 432x288 with 1 Axes>"
      ]
     },
     "metadata": {},
     "output_type": "display_data"
    }
   ],
   "source": [
    "y=dataframe1['Close']\n",
    "#x=dataframe['Date']\n",
    "plt.plot(y)\n",
    "plt.show()"
   ]
  },
  {
   "cell_type": "markdown",
   "metadata": {},
   "source": [
    "<b><i>Loading the Dataset and Removing the Date, Open , High, Low, Adj Close and Volume</i></b>"
   ]
  },
  {
   "cell_type": "code",
   "execution_count": null,
   "metadata": {},
   "outputs": [],
   "source": [
    "dataframe = read_csv('YESBANK.NS.csv', sep=\",\")\n",
    "del dataframe['Date']\n",
    "del dataframe['High']\n",
    "del dataframe['Low']\n",
    "del dataframe['Adj Close']\n",
    "del dataframe['Open']\n",
    "del dataframe['Volume']\n",
    "#Dropping the NA values gives better result than filling it with mean values\n",
    "dataframe.dropna(inplace=True)\n",
    "dataset = dataframe.values\n",
    "dataset = dataset.astype('float32')"
   ]
  },
  {
   "cell_type": "markdown",
   "metadata": {},
   "source": [
    "<b><i>Dataset Normalization</i></b>"
   ]
  },
  {
   "cell_type": "code",
   "execution_count": null,
   "metadata": {},
   "outputs": [],
   "source": [
    "scaler = MinMaxScaler(feature_range=(0, 1))\n",
    "dataset = scaler.fit_transform(dataset)"
   ]
  },
  {
   "cell_type": "markdown",
   "metadata": {},
   "source": [
    "<b><i>Splitting the dataset into 90-92% train data and 10% test data (Test data input includes the input for values we need to predict i.e the closing price on 30th trading day)</i></b> "
   ]
  },
  {
   "cell_type": "code",
   "execution_count": null,
   "metadata": {},
   "outputs": [],
   "source": [
    "train_size = int(len(dataset) * 0.92)\n",
    "test_size = len(dataset) - train_size\n",
    "train, test = dataset[0:train_size,:], dataset[train_size:len(dataset),:]\n",
    "look_back = 29\n",
    "trainX, trainY = create_dataset_train(train, look_back)\n",
    "trainX = numpy.reshape(trainX, (trainX.shape[0], 1, trainX.shape[1]))"
   ]
  },
  {
   "cell_type": "markdown",
   "metadata": {},
   "source": [
    "<b><i>Create and fit the LSTM network with 4 blocks. Batch size=1 and epochs=50</i></b>"
   ]
  },
  {
   "cell_type": "code",
   "execution_count": null,
   "metadata": {},
   "outputs": [],
   "source": [
    "model = Sequential()\n",
    "model.add(LSTM(4, input_shape=(1, look_back+1)))\n",
    "model.add(Dense(1))\n",
    "model.compile(loss='mean_squared_error', optimizer='adam')\n",
    "model.fit(trainX, trainY, epochs=50, batch_size=1, verbose=2)"
   ]
  },
  {
   "cell_type": "markdown",
   "metadata": {},
   "source": [
    "<b><i>Predicting the Closing Price iteratiely for next day upto the 30th trading day.</i></b>"
   ]
  },
  {
   "cell_type": "code",
   "execution_count": 23,
   "metadata": {},
   "outputs": [],
   "source": [
    "for i in range (1,30):\n",
    "    testX, testY = create_dataset_test(test, look_back)\n",
    "    testX = numpy.reshape(testX, (testX.shape[0], 1, testX.shape[1]))\n",
    "    testPredict = model.predict(testX)\n",
    "    temp=testPredict[len(testPredict)-1,0]\n",
    "    test=numpy.append(test,[[temp]],axis=0)\n",
    "    test=numpy.delete(test,0,axis=0)"
   ]
  },
  {
   "cell_type": "markdown",
   "metadata": {},
   "source": [
    "<b><i>Last Value of testPredict corresponds to the predicted closing price on 30th Trading day i.e 16th May</i></b>"
   ]
  },
  {
   "cell_type": "code",
   "execution_count": 24,
   "metadata": {
    "scrolled": true
   },
   "outputs": [
    {
     "name": "stdout",
     "output_type": "stream",
     "text": [
      "[[318.16595]\n",
      " [317.96973]\n",
      " [317.7194 ]\n",
      " [317.811  ]\n",
      " [315.5267 ]\n",
      " [318.47296]\n",
      " [320.04233]\n",
      " [330.3501 ]\n",
      " [334.1876 ]\n",
      " [340.90546]\n",
      " [342.71854]\n",
      " [346.11594]\n",
      " [344.34012]\n",
      " [341.4072 ]\n",
      " [337.91232]\n",
      " [342.36942]\n",
      " [343.2611 ]\n",
      " [347.76688]\n",
      " [352.87292]\n",
      " [358.77307]\n",
      " [361.26917]\n",
      " [363.34772]\n",
      " [360.00256]\n",
      " [357.41483]\n",
      " [355.416  ]\n",
      " [358.55298]\n",
      " [353.23972]\n",
      " [348.1562 ]\n",
      " [344.56656]\n",
      " [340.9679 ]\n",
      " [338.33047]\n",
      " [333.72858]\n",
      " [335.99762]\n",
      " [330.52368]\n",
      " [325.70123]\n",
      " [319.98276]\n",
      " [318.91257]\n",
      " [316.15903]\n",
      " [317.87982]\n",
      " [319.97693]\n",
      " [326.0195 ]\n",
      " [329.84958]\n",
      " [332.7196 ]\n",
      " [329.6409 ]\n",
      " [328.88394]\n",
      " [320.25986]\n",
      " [319.2601 ]\n",
      " [315.32428]\n",
      " [315.32532]\n",
      " [308.82797]\n",
      " [313.56952]\n",
      " [315.96262]\n",
      " [321.16132]\n",
      " [318.38318]\n",
      " [319.4055 ]\n",
      " [313.1486 ]\n",
      " [309.92136]\n",
      " [305.16025]\n",
      " [305.22147]\n",
      " [294.76318]\n",
      " [303.01273]\n",
      " [306.60666]\n",
      " [309.2623 ]\n",
      " [309.18707]\n",
      " [316.84436]\n",
      " [312.21307]\n",
      " [314.9523 ]\n",
      " [316.09622]\n",
      " [320.3682 ]\n",
      " [321.31802]\n",
      " [325.3944 ]\n",
      " [326.2485 ]\n",
      " [330.1059 ]\n",
      " [331.22052]\n",
      " [335.26978]\n",
      " [335.65424]\n",
      " [338.2137 ]\n",
      " [338.72375]\n",
      " [341.36456]\n",
      " [341.9429 ]\n",
      " [344.6847 ]\n",
      " [345.51727]\n",
      " [347.12897]\n",
      " [349.19214]\n",
      " [350.47827]\n",
      " [351.3549 ]\n",
      " [353.02695]\n",
      " [353.65076]\n",
      " [354.14368]\n",
      " [355.46802]\n",
      " [356.30145]\n",
      " [357.04706]\n",
      " [358.01196]\n",
      " [358.96863]]\n"
     ]
    }
   ],
   "source": [
    "testPredict = scaler.inverse_transform(testPredict)\n",
    "testY = scaler.inverse_transform([testY])\n",
    "print (testPredict)\n"
   ]
  },
  {
   "cell_type": "markdown",
   "metadata": {},
   "source": [
    "<b><i>Calculate Return</i></b>"
   ]
  },
  {
   "cell_type": "code",
   "execution_count": 25,
   "metadata": {},
   "outputs": [
    {
     "name": "stdout",
     "output_type": "stream",
     "text": [
      "[17.521235]\n"
     ]
    }
   ],
   "source": [
    "dataset=scaler.inverse_transform(dataset)\n",
    "close_day0_actual=dataset[len(dataset)-1]\n",
    "close_day30_predicted=testPredict[len(testPredict)-1]\n",
    "return_predict=((close_day30_predicted-close_day0_actual)/close_day0_actual)*100\n",
    "print(return_predict)"
   ]
  }
 ],
 "metadata": {
  "kernelspec": {
   "display_name": "Python 3",
   "language": "python",
   "name": "python3"
  },
  "language_info": {
   "codemirror_mode": {
    "name": "ipython",
    "version": 3
   },
   "file_extension": ".py",
   "mimetype": "text/x-python",
   "name": "python",
   "nbconvert_exporter": "python",
   "pygments_lexer": "ipython3",
   "version": "3.5.0"
  }
 },
 "nbformat": 4,
 "nbformat_minor": 2
}
